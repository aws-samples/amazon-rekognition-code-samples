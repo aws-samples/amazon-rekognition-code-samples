{
 "cells": [
  {
   "cell_type": "markdown",
   "metadata": {},
   "source": [
    "# Identity Verification Getting Started\n",
    "\n",
    "-------\n",
    "\n",
    "This lab simply checks to make sure that your environment is setup to run the identity verification labs. \n",
    "\n",
    "\n",
    "## Introduction \n",
    "\n",
    "-------\n",
    "\n",
    "In this notebook, we'll check our environment and client connectivity prior to running the Identity Verification labs.  \n",
    "\n",
    "\n",
    "### Check the Python Environment is Setup\n",
    "-----\n",
    "Make sure that the following block of code will run, make any changes to your region, bucket and clients necessary"
   ]
  },
  {
   "cell_type": "code",
   "execution_count": null,
   "metadata": {},
   "outputs": [],
   "source": [
    "\n",
    "import boto3\n",
    "from IPython.display import HTML, display, Image as IImage\n",
    "\n",
    "\n",
    "mySession = boto3.session.Session()\n",
    "aws_region = mySession.region_name\n",
    "bucket_name =  \"identity-verification-media-123\"\n",
    "print(\"AWS Bucket: {}\".format(bucket_name))"
   ]
  },
  {
   "cell_type": "markdown",
   "metadata": {},
   "source": [
    "### Setup Clients \n",
    "-----\n",
    "Here we are going to use both S3 and Rekognition clients  "
   ]
  },
  {
   "cell_type": "code",
   "execution_count": null,
   "metadata": {},
   "outputs": [],
   "source": [
    "s3_client  = boto3.client('s3')\n",
    "rek_client = boto3.client('rekognition')"
   ]
  },
  {
   "cell_type": "markdown",
   "metadata": {},
   "source": [
    "### Display a Face from S3\n",
    "-------\n",
    "Here we are going to display the face of Al Gore"
   ]
  },
  {
   "cell_type": "code",
   "execution_count": null,
   "metadata": {},
   "outputs": [],
   "source": [
    "\n",
    "## Image of a Face\n",
    "face_image = \"Al_Gore_0001.png\"\n",
    "print(face_image)\n",
    "display(IImage(url=s3_client.generate_presigned_url('get_object', \n",
    "                                                    Params={'Bucket': bucket_name, \n",
    "                                                            'Key'   : face_image})))"
   ]
  },
  {
   "cell_type": "markdown",
   "metadata": {},
   "source": [
    "###  This function will list the first 1k files stored in our bucket. \n",
    "-----\n",
    "We'll make use of these files in subsequent labs. "
   ]
  },
  {
   "cell_type": "code",
   "execution_count": null,
   "metadata": {},
   "outputs": [],
   "source": [
    "# there should be close to 1000 files in the bucket. \n",
    "def list_s3_files_using_client(bucket_name):\n",
    "    \"\"\"\n",
    "    This functions list all files in s3 bucket.\n",
    "    :return: None\n",
    "    \"\"\"\n",
    "    print(f\"Files located in bucket: {bucket_name}\")\n",
    "    s3_client = boto3.client(\"s3\")\n",
    "    response = s3_client.list_objects_v2(Bucket=bucket_name)\n",
    "    files = response.get(\"Contents\")\n",
    "    for file in files:\n",
    "        print(f\"file_name: {file['Key']}, size: {file['Size']}\")\n",
    "\n",
    "# -- run our function \n",
    "list_s3_files_using_client(bucket_name)"
   ]
  },
  {
   "cell_type": "markdown",
   "metadata": {},
   "source": [
    "## Check Rekognition APIs\n",
    "-----\n",
    "Here we'll use the detect_faces API to ensure that our Rekognition client is properly configured. the following should produce a FaceDetails object. \n"
   ]
  },
  {
   "cell_type": "code",
   "execution_count": null,
   "metadata": {},
   "outputs": [],
   "source": [
    "response = rek_client.detect_faces(Image={'S3Object':{\n",
    "    'Bucket': bucket_name,\n",
    "    'Name'  : face_image}},\n",
    "    Attributes=['ALL'])\n",
    "\n",
    "response"
   ]
  },
  {
   "cell_type": "code",
   "execution_count": null,
   "metadata": {},
   "outputs": [],
   "source": []
  }
 ],
 "metadata": {
  "kernelspec": {
   "display_name": "Python 3 (ipykernel)",
   "language": "python",
   "name": "python3"
  },
  "language_info": {
   "codemirror_mode": {
    "name": "ipython",
    "version": 3
   },
   "file_extension": ".py",
   "mimetype": "text/x-python",
   "name": "python",
   "nbconvert_exporter": "python",
   "pygments_lexer": "ipython3",
   "version": "3.9.7"
  },
  "vscode": {
   "interpreter": {
    "hash": "31f2aee4e71d21fbe5cf8b01ff0e069b9275f58929596ceb00d14d90e3e16cd6"
   }
  }
 },
 "nbformat": 4,
 "nbformat_minor": 4
}
