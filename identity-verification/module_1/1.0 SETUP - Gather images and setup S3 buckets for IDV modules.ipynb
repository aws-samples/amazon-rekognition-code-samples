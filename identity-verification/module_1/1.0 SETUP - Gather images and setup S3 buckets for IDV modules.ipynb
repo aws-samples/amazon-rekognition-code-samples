{
  "cells": [
    {
      "cell_type": "markdown",
      "id": "e43d5a69-b57f-4818-95f6-8b9c7206c345",
      "metadata": {
        "tags": []
      },
      "source": [
        "# Lab and Demo Setup"
      ]
    },
    {
      "cell_type": "markdown",
      "id": "498b754e",
      "metadata": {},
      "source": [
        "# 1 - Lab Setup\n",
        "----\n",
        "\n",
        "This notebook creates an S3 bucket and loads the bucket with synthetically generated images of faces. The bucket and the images will be used in the subsequent modules. \n",
        "\n",
        "1. Create a S3 bucket, you'll need to provide a name.\n",
        "2. Upload contents of media directory to the S3 bucket. \n",
        "\n",
        "### Install python dependencies if necessary"
      ]
    },
    {
      "cell_type": "code",
      "execution_count": 1,
      "id": "02a0b095",
      "metadata": {},
      "outputs": [],
      "source": [
        "%pip install boto3 matplotlib opencv-python openpyxl pandas scikit-learn scikit-image"
      ]
    },
    {
      "cell_type": "markdown",
      "id": "cb30d25b",
      "metadata": {},
      "source": [
        "### Import Libraries & Specify a S3 bucket name\n",
        "\n",
        "Update the name of the bucket you want created on your behalf. This bucket will be used in subsequent modules and will be loaded with the synthetically generated images. \n",
        "\n",
        "<div class=\"alert alert-info\"><strong> About Images used in Labs </strong>\n",
        "    \n",
        "Images provided in lab modules were generated using a stylized generative adversarial network (GAN) using an adaptive discriminator and age dithered via latent encoding which “ages” the faces in the images. While the faces in the images may appear remarkable, they are synthetically generated and **are not images of real people**.  \n",
        "\n",
        "</div>"
      ]
    },
    {
      "cell_type": "code",
      "execution_count": 9,
      "id": "95ebfa80",
      "metadata": {},
      "outputs": [],
      "source": [
        "import os\n",
        "import glob \n",
        "import boto3\n",
        "# --- scikit-learn libraries for Labeled Faces in the Wild --- \n",
        "from sklearn.datasets import fetch_lfw_people, get_data_home\n"
      ]
    },
    {
      "cell_type": "markdown",
      "id": "d6e9e6a0",
      "metadata": {},
      "source": [
        "### Create an S3 Bucket \n",
        "Create a new S3 bucket which will store images and other objects that are used in subsequent modules. \n"
      ]
    },
    {
      "cell_type": "code",
      "execution_count": 14,
      "id": "6d5fec48",
      "metadata": {},
      "outputs": [],
      "source": [
        "mySession = boto3.session.Session()\n",
        "aws_region = mySession.region_name\n",
        "print(\"AWS Region: {}\".format(aws_region))\n",
        "\n",
        "\n",
        "# --- Specify a bucket name. It must not already exist. ---\n",
        "bucket_name = \"\"\n",
        "# -------------------------------------------\n",
        "\n",
        "s3 = mySession.client('s3')\n",
        "try:\n",
        "    s3.create_bucket(Bucket=bucket_name,     CreateBucketConfiguration={\n",
        "        'LocationConstraint': aws_region\n",
        "    },\n",
        ")\n",
        "    print(\"AWS Bucket: {}\".format(bucket_name))\n",
        "    %store bucket_name\n",
        "except Exception as err:\n",
        "    print(\"ERROR: {}\".format(err))"
      ]
    },
    {
      "cell_type": "markdown",
      "id": "7e0bd094",
      "metadata": {},
      "source": [
        "### Upload Images to S3 bucket\n",
        "Read all of the files in the media folder and uploads them to the S3 bucket. \n",
        "\n",
        "**NOTE: this may take a minute or two to upload to S3** "
      ]
    },
    {
      "cell_type": "code",
      "execution_count": null,
      "id": "09a5ac33",
      "metadata": {},
      "outputs": [],
      "source": [
        "# S3 content of media directory and upload it\n",
        "media_path = \"media/*\"\n",
        "for img in glob.glob(media_path):\n",
        "    file_name = os.path.basename(img)\n",
        "    s3.upload_file(img, bucket_name, file_name)\n",
        "print(\"-- upload complete --\")"
      ]
    },
    {
      "cell_type": "markdown",
      "id": "e4c84527-0902-43a3-9f3e-a9275be94b91",
      "metadata": {
        "tags": []
      },
      "source": [
        "# 2 - IDV Demo App setup"
      ]
    },
    {
      "cell_type": "markdown",
      "id": "0b5ab1ec-c6cb-4136-9115-290dc354a8db",
      "metadata": {},
      "source": [
        "The solution provides a sample of workflows to enable user registration, authentication, and updates to the user profile image.\n",
        "\n",
        "- Register a new user using a face selfie\n",
        "- Register a new user after face match against an ID card with ID card data extraction\n",
        "- Authenticate returning user\n",
        "\n",
        "## Solution Deployment\n",
        "\n",
        "---\n",
        "\n",
        "\n",
        "- <a href=\"https://console.aws.amazon.com/cloudformation/home?region=us-east-1#/stacks/create/template?stackName=Riv-Prod&amp;templateURL=https://aws-ml-blog.s3.amazonaws.com/artifacts/rekognition-identity-verification-solution/Riv-Prod.template.json\" target=\"_blank\" rel=\"noopener noreferrer\"><img class=\"alignnone wp-image-37966 size-full\" src=\"https://d2908q01vomqb2.cloudfront.net/f1f836cb4ea6efb2a0b1b99f41ad8b103eff4b59/2022/06/14/ML-8625-image006-launch-stack.png\" alt=\"Launch stack button\" width=\"107\" height=\"20\"></a>&nbsp; N. Virginia (<code>us-east-1</code>)\n",
        "- Invoke the web UI - The web portal is deployed with Amplify. On the Amplify console, locate the hosted web application environment (Riv-Prod) and the URL. Copy the URL and access it from your browser."
      ]
    }
  ],
  "metadata": {
    "kernelspec": {
      "display_name": ".venv",
      "language": "python",
      "name": "python3"
    },
    "language_info": {
      "codemirror_mode": {
        "name": "ipython",
        "version": 3
      },
      "file_extension": ".py",
      "mimetype": "text/x-python",
      "name": "python",
      "nbconvert_exporter": "python",
      "pygments_lexer": "ipython3",
      "version": "3.11.6"
    }
  },
  "nbformat": 4,
  "nbformat_minor": 5
}
