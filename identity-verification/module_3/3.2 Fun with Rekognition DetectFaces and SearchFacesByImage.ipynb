{
 "cells": [
  {
   "cell_type": "markdown",
   "id": "progressive-hypothesis",
   "metadata": {},
   "source": [
    "# 3.2 Fun with Rekognition DetectFaces and SearchFacesByImage\n",
    "----\n",
    "This is fun but optional module. Here we are going to take a look at extracting and indexing multiple faces, from an image. Once we have the collection of images we'll compare all faces in an image with Amazon Rekognition against your collection.\n",
    "\n",
    "## Steps \n",
    "\n",
    "1. Load packages \n",
    "2. View existing collections \n",
    "3. Create a new collection \n",
    "4. Download some images and unzip them into a directory \n",
    "5. Index the faces found into the collection \n",
    "6. Find and present faces found in an image vs. the faces stored in your collection \n",
    "7. Clean up!! \n"
   ]
  },
  {
   "cell_type": "markdown",
   "id": "cathedral-halifax",
   "metadata": {},
   "source": [
    "The following notebook will guide you through on how to compare all faces detected in an image against your Amazon Rekognition Face Collection. \n",
    "\n",
    "## Step 1. Load Libraries "
   ]
  },
  {
   "cell_type": "code",
   "execution_count": null,
   "id": "thermal-advancement",
   "metadata": {},
   "outputs": [],
   "source": [
    "import boto3, json, os, io\n",
    "from PIL import Image, ImageDraw, ExifTags, ImageColor\n",
    "from IPython.display import Image as IImage\n",
    "client=boto3.client('rekognition')"
   ]
  },
  {
   "cell_type": "markdown",
   "id": "beneficial-folks",
   "metadata": {},
   "source": [
    "## Step 2. View your existing collections"
   ]
  },
  {
   "cell_type": "code",
   "execution_count": null,
   "id": "composed-engineering",
   "metadata": {},
   "outputs": [],
   "source": [
    "def list_collections():\n",
    "\n",
    "    max_results=10\n",
    "    \n",
    "    #Display all the collections\n",
    "    print('Displaying collections...')\n",
    "    response=client.list_collections(MaxResults=max_results)\n",
    "    collection_count=0\n",
    "    done=False\n",
    "    \n",
    "    while not done:\n",
    "        collections=response['CollectionIds']\n",
    "\n",
    "        for collection in collections:\n",
    "            print (collection)\n",
    "            collection_count+=1\n",
    "        if 'NextToken' in response:\n",
    "            nextToken=response['NextToken']\n",
    "            response=client.list_collections(NextToken=nextToken,MaxResults=max_results)\n",
    "            \n",
    "        else:\n",
    "            done=True\n",
    "\n",
    "    return collection_count   \n",
    "\n",
    "collection_count=list_collections()\n",
    "print(\"collections: \" + str(collection_count))\n"
   ]
  },
  {
   "cell_type": "markdown",
   "id": "trained-venture",
   "metadata": {},
   "source": [
    "## Step 3. Create a new collection\n",
    "-----\n",
    "\n",
    "Remember you must use a unique name if you are creating a new collection"
   ]
  },
  {
   "cell_type": "code",
   "execution_count": null,
   "id": "affiliated-complex",
   "metadata": {},
   "outputs": [],
   "source": [
    "collection_id='Avengers_Collection' # Remember you must use a unique name if you are creating a new collection"
   ]
  },
  {
   "cell_type": "code",
   "execution_count": null,
   "id": "second-soldier",
   "metadata": {},
   "outputs": [],
   "source": [
    "def create_collection(collection_id):\n",
    "    #Create a collection\n",
    "    print('Creating collection:' + collection_id)\n",
    "    try:\n",
    "        response=client.create_collection(CollectionId=collection_id)\n",
    "    except:\n",
    "        client.delete_collection(CollectionId=collection_id)\n",
    "        response=client.create_collection(CollectionId=collection_id)\n",
    "    print('Collection ARN: ' + response['CollectionArn'])\n",
    "    print('Status code: ' + str(response['StatusCode']))\n",
    "    print('Done...')\n",
    "    \n",
    "create_collection(collection_id)"
   ]
  },
  {
   "cell_type": "markdown",
   "id": "chemical-netherlands",
   "metadata": {},
   "source": [
    "### Step 3a. Confirm your collection creation. \n",
    "-----\n"
   ]
  },
  {
   "cell_type": "code",
   "execution_count": null,
   "id": "prime-ridge",
   "metadata": {},
   "outputs": [],
   "source": [
    "collection_count=list_collections()\n",
    "print(\"collections: \" + str(collection_count))"
   ]
  },
  {
   "cell_type": "markdown",
   "id": "dirty-soccer",
   "metadata": {},
   "source": [
    "## Step 4. Download collection images\n",
    "---\n",
    "here we are going to download a zip file of images, unzip it and then index it. "
   ]
  },
  {
   "cell_type": "code",
   "execution_count": null,
   "id": "mighty-sheet",
   "metadata": {
    "tags": []
   },
   "outputs": [],
   "source": [
    "!rm -R avengers_face_search\n",
    "!curl https://dz4iesrkqs7j9.cloudfront.net/random/avengers_face_search.zip -O\n",
    "!unzip avengers_face_search.zip\n",
    "!rm -R __MACOSX\n",
    "!rm avengers_face_search.zip"
   ]
  },
  {
   "cell_type": "markdown",
   "id": "annoying-tenant",
   "metadata": {},
   "source": [
    "## Step 5. Index faces (add faces to a collection) \n",
    "-----\n",
    "Here we are going to iterate over the files in the population folder and index their faces. "
   ]
  },
  {
   "cell_type": "code",
   "execution_count": null,
   "id": "located-doubt",
   "metadata": {},
   "outputs": [],
   "source": [
    "directory = 'avengers_face_search/populate'\n",
    " \n",
    "# iterate over files in\n",
    "# that directory\n",
    "for filename in os.listdir(directory):\n",
    "    f = os.path.join(directory, filename)\n",
    "    with open(f, \"rb\") as file:\n",
    "        print(f)\n",
    "        file = open(f, \"rb\") # opening for [r]eading as [b]inary\n",
    "        data = file.read() \n",
    "        response=client.index_faces(CollectionId=collection_id,\n",
    "                            Image={'Bytes':data},\n",
    "                            ExternalImageId=f.split(\"/\")[2],\n",
    "                            MaxFaces=1,\n",
    "                            QualityFilter=\"AUTO\",\n",
    "                            DetectionAttributes=['ALL'])\n",
    "        print ('Results for ' + f.split(\"/\")[2])\n",
    "        print('Faces indexed:')\n",
    "        for faceRecord in response['FaceRecords']:\n",
    "            print('  Face ID : ' + faceRecord['Face']['FaceId'])\n",
    "            print('  Location: {}'.format(faceRecord['Face']['BoundingBox']))\n",
    "\n",
    "        print('Faces not indexed:')\n",
    "        for unindexedFace in response['UnindexedFaces']:\n",
    "            print(' Location: {}'.format(unindexedFace['FaceDetail']['BoundingBox']))\n",
    "            print(' Reasons :')\n",
    "            for reason in unindexedFace['Reasons']:\n",
    "                print('   ' + reason)\n",
    "        file.close()\n"
   ]
  },
  {
   "cell_type": "markdown",
   "id": "animal-cornwall",
   "metadata": {},
   "source": [
    "### 5a. List faces in the collection"
   ]
  },
  {
   "cell_type": "code",
   "execution_count": null,
   "id": "exterior-contrast",
   "metadata": {},
   "outputs": [],
   "source": [
    "def list_faces_in_collection(collection_id):\n",
    "\n",
    "    maxResults=20\n",
    "    faces_count=0\n",
    "    tokens=True\n",
    "\n",
    "    response=client.list_faces(CollectionId=collection_id,\n",
    "                               MaxResults=maxResults)\n",
    "\n",
    "    print('Faces in collection ' + collection_id)\n",
    " \n",
    "    while tokens:\n",
    "\n",
    "        faces=response['Faces']\n",
    "        for face in faces:\n",
    "            print (face[\"FaceId\"],face[\"ExternalImageId\"].split('.')[0])\n",
    "            faces_count+=1\n",
    "        if 'NextToken' in response:\n",
    "            nextToken=response['NextToken']\n",
    "            response=client.list_faces(CollectionId=collection_id,\n",
    "                                       NextToken=nextToken,MaxResults=maxResults)\n",
    "        else:\n",
    "            tokens=False\n",
    "    return faces_count   \n",
    "\n",
    "faces_count=list_faces_in_collection(collection_id)\n",
    "print(\"Faces in collection: \" + str(faces_count))"
   ]
  },
  {
   "cell_type": "markdown",
   "id": "automatic-manner",
   "metadata": {},
   "source": [
    "## Step 6. Find faces in photo\n",
    "\n",
    "----\n",
    "here we create a few functions that will be useful for transforming and detecting faces "
   ]
  },
  {
   "cell_type": "code",
   "execution_count": null,
   "id": "french-boulder",
   "metadata": {},
   "outputs": [],
   "source": [
    "def transform_bounding(img, box):\n",
    "    imgWidth, imgHeight = img.size\n",
    "    l = (imgWidth * box['Left'])-5\n",
    "    t = (imgHeight * box['Top'])-5\n",
    "    w = (imgWidth * box['Width'])+10\n",
    "    h = (imgHeight * box['Height'])+10\n",
    "    return l,t,w,h"
   ]
  },
  {
   "cell_type": "code",
   "execution_count": null,
   "id": "surprising-queens",
   "metadata": {},
   "outputs": [],
   "source": [
    "def detect_faces(file):\n",
    "    faces = []\n",
    "    f = open(file, \"rb\") # opening for [r]eading as [b]inary\n",
    "    data = f.read() \n",
    "    response = client.detect_faces(Image={'Bytes':data})\n",
    "    for face in response[\"FaceDetails\"]:\n",
    "        faces.append(face['BoundingBox'])\n",
    "    print(\"Faces detected: \" + str(len(response['FaceDetails'])))   \n",
    "    return faces"
   ]
  },
  {
   "cell_type": "code",
   "execution_count": null,
   "id": "governmental-burner",
   "metadata": {},
   "outputs": [],
   "source": [
    "directory = 'avengers_face_search/test'\n",
    "\n",
    "from PIL import Image               # to load images\n",
    "from IPython.display import display # to display images\n",
    "\n",
    "for filename in os.listdir(directory):\n",
    "    f = os.path.join(directory, filename)\n",
    "    with open(f, \"rb\") as file:\n",
    "        img = Image.open(f)\n",
    "        display(img)\n",
    "        faces = detect_faces(f)        \n",
    "        for face in faces:\n",
    "            l,t,w,h = transform_bounding(img,face)\n",
    "            cropped = img.crop((l,t,l+w,t+h))    \n",
    "\n",
    "            stream = io.BytesIO()\n",
    "            cropped.save(stream, format='JPEG')\n",
    "            bin_img = stream.getvalue()\n",
    "\n",
    "            response0 = client.detect_faces(\n",
    "                Image={'Bytes': bin_img},\n",
    "            )\n",
    "\n",
    "            if len(response0['FaceDetails']) > 0:\n",
    "                print(\"face found\")\n",
    "                display(cropped)\n",
    "                response1=client.search_faces_by_image(CollectionId=\"Avengers_Collection\",\n",
    "                                                  Image={'Bytes': bin_img},\n",
    "                                                  FaceMatchThreshold=50)\n",
    "                faceMatches=response1['FaceMatches']\n",
    "                if(len(faceMatches) > 0):\n",
    "                    for match in faceMatches:\n",
    "                        print ('Character  : ' + match['Face']['ExternalImageId'].split('.')[0])\n",
    "                        print ('Similarity : ' + \"{:.2f}\".format(match['Similarity']) + \"%\")\n",
    "                else:\n",
    "                    print(\"but no match found\")\n",
    "            else:\n",
    "                print(\"face not found in the following crop\")\n",
    "                cropped.show()\n",
    "\n",
    "            print(\"------------------------------\")  "
   ]
  },
  {
   "cell_type": "markdown",
   "id": "stock-catholic",
   "metadata": {},
   "source": [
    "## Clean up the resources"
   ]
  },
  {
   "cell_type": "markdown",
   "id": "apparent-meaning",
   "metadata": {},
   "source": [
    "Delete your face collection "
   ]
  },
  {
   "cell_type": "code",
   "execution_count": null,
   "id": "nearby-complexity",
   "metadata": {},
   "outputs": [],
   "source": [
    "def delete_collection(collection_id):\n",
    "\n",
    "\n",
    "    print('Attempting to delete collection ' + collection_id)\n",
    "    client=boto3.client('rekognition')\n",
    "    status_code=0\n",
    "    try:\n",
    "        response=client.delete_collection(CollectionId=collection_id)\n",
    "        status_code=response['StatusCode']\n",
    "        \n",
    "    except ClientError as e:\n",
    "        if e.response['Error']['Code'] == 'ResourceNotFoundException':\n",
    "            print ('The collection ' + collection_id + ' was not found ')\n",
    "        else:\n",
    "            print ('Error other than Not Found occurred: ' + e.response['Error']['Message'])\n",
    "        status_code=e.response['ResponseMetadata']['HTTPStatusCode']\n",
    "    return status_code\n",
    "\n",
    "\n",
    "def main():\n",
    "    collection_id='Avengers_Collection'\n",
    "    status_code=delete_collection(collection_id)\n",
    "    print('Status code: ' + str(status_code))\n",
    "\n",
    "if __name__ == \"__main__\":\n",
    "    main()  "
   ]
  },
  {
   "cell_type": "code",
   "execution_count": null,
   "id": "artificial-permission",
   "metadata": {},
   "outputs": [],
   "source": []
  }
 ],
 "metadata": {
  "instance_type": "ml.t3.medium",
  "kernelspec": {
   "display_name": "Python 3 (ipykernel)",
   "language": "python",
   "name": "python3"
  },
  "language_info": {
   "codemirror_mode": {
    "name": "ipython",
    "version": 3
   },
   "file_extension": ".py",
   "mimetype": "text/x-python",
   "name": "python",
   "nbconvert_exporter": "python",
   "pygments_lexer": "ipython3",
   "version": "3.9.7"
  },
  "vscode": {
   "interpreter": {
    "hash": "31f2aee4e71d21fbe5cf8b01ff0e069b9275f58929596ceb00d14d90e3e16cd6"
   }
  }
 },
 "nbformat": 4,
 "nbformat_minor": 5
}
